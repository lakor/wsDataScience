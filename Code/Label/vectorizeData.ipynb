{
 "cells": [
  {
   "cell_type": "code",
   "execution_count": 1,
   "metadata": {
    "collapsed": true
   },
   "outputs": [],
   "source": [
    "# this program vectorize the rows of the requests files in the given folder\n",
    "# input: name of folder that contains requests files, and output folder for the vectors\n",
    "# uses: the files from the \"Features\" folder\n",
    "# output: writes vectors files to the Folders \"TrainVectors\" or \"TestVectors\" (chosen by input)"
   ]
  },
  {
   "cell_type": "code",
   "execution_count": 2,
   "metadata": {
    "collapsed": true
   },
   "outputs": [],
   "source": [
    "import os\n",
    "import csv\n",
    "from collections import OrderedDict\n",
    "\n",
    "dict=OrderedDict()\n",
    "dict.update({\"country\":{}})\n",
    "dict.update({\"continent\":{}})\n",
    "dict.update({\"opName\":{}})\n",
    "dict.update({\"osVer\":{}})\n",
    "dict.update({\"brwVer\":{}})"
   ]
  },
  {
   "cell_type": "code",
   "execution_count": 3,
   "metadata": {
    "collapsed": false
   },
   "outputs": [],
   "source": [
    "#update dict from the scaled Features file\n",
    "def updateDict (data, filename):\n",
    "    data.reverse\n",
    "    headline=data.pop(0)\n",
    "    i=0\n",
    "    for title in headline:\n",
    "        if title=='fieldID':\n",
    "            fieldIDPlace=i\n",
    "        if title =='fieldName':\n",
    "            fieldNamePlace=i\n",
    "        i+=1\n",
    "    for row in data:\n",
    "        tempDict={row[fieldNamePlace]:row[fieldIDPlace]}\n",
    "        dict[filename].update(tempDict)    "
   ]
  },
  {
   "cell_type": "code",
   "execution_count": 4,
   "metadata": {
    "collapsed": true
   },
   "outputs": [],
   "source": [
    "#create a vectorized data for the current file\n",
    "def vectorizeFile (data,newdata,isLabeled):\n",
    "    data.reverse\n",
    "    headline=data.pop(0)\n",
    "    i=0\n",
    "    for title in headline:\n",
    "        if title=='Continent':\n",
    "            continentPlace=i\n",
    "        if title =='Country':\n",
    "            countryPlace=i\n",
    "        if title=='OpName':\n",
    "            opNamePlace=i\n",
    "        if title == \"OsVer\":\n",
    "            osVerPlace=i\n",
    "        if title == \"BrowserVer\":\n",
    "            brwVerPlace=i\n",
    "        if title == \"Label\":\n",
    "            labelPlace=i\n",
    "        i+=1\n",
    "    for row in data:\n",
    "        newRow=[]\n",
    "        addToNewRow(row,newRow,'continent',continentPlace)\n",
    "        addToNewRow(row,newRow,'country',countryPlace)\n",
    "        addToNewRow(row,newRow,'opName',opNamePlace)\n",
    "        addToNewRow(row,newRow,'osVer',osVerPlace)\n",
    "        addToNewRow(row,newRow,'brwVer',brwVerPlace)\n",
    "        if isLabeled:\n",
    "            newRow.append(row[labelPlace])\n",
    "        newdata.append(newRow)"
   ]
  },
  {
   "cell_type": "code",
   "execution_count": 5,
   "metadata": {
    "collapsed": true
   },
   "outputs": [],
   "source": [
    "# create a new vector from the given row\n",
    "def addToNewRow (row,newRow,featureTitle,featurePlace):\n",
    "    tempDict=dict[featureTitle] #dict -> country:[]\n",
    "    currentField=row[featurePlace] #country-> England\n",
    "    if currentField in tempDict:\n",
    "        index=tempDict[currentField] #index = 3 (country[England]=3)\n",
    "    else:\n",
    "        index=0\n",
    "    newRow.append(index)"
   ]
  },
  {
   "cell_type": "code",
   "execution_count": 6,
   "metadata": {
    "collapsed": true
   },
   "outputs": [],
   "source": [
    "# write output to file (vectors)\n",
    "def writeVectorsFile (filepath,newdata,isLabeled):\n",
    "    newdata.reverse\n",
    "    \n",
    "    if isLabeled:\n",
    "        headline=\"Continent,Country,OpName,OsVer,BrowserVer,Label\\n\"\n",
    "    else:\n",
    "        headline=\"Continent,Country,OpName,OsVer,BrowserVer\\n\"\n",
    "   \n",
    "    with open(filepath,'w') as f2:\n",
    "        f2.write('%s' % headline)\n",
    "        for row in newdata:\n",
    "            for i in range (0,len(row)):\n",
    "                if (i<len(row)-1):\n",
    "                    f2.write('%s,' % row[i])\n",
    "                else:\n",
    "                    f2.write('%s' % row[i])    \n",
    "            f2.write('\\n')\n",
    "        f2.close() "
   ]
  },
  {
   "cell_type": "code",
   "execution_count": 7,
   "metadata": {
    "collapsed": false
   },
   "outputs": [],
   "source": [
    "#vectorizes all files in the Dir\n",
    "def vectorizeFilesInDir (dataDirPath,vectorsDirPath,isLabeled):\n",
    "    for filename in os.listdir(dataDirPath):\n",
    "        \n",
    "        filepath=dataDirPath+\"/\"+filename #oldpath\n",
    "        \n",
    "        filename=filename.split(\".csv\")[0]+\"_vectors.csv\" #newpath\n",
    "        newpath=vectorsDirPath+\"/\"+filename\n",
    "        \n",
    "        with open(filepath) as f:\n",
    "            data = list(csv.reader(f))\n",
    "            newdata=list()\n",
    "            vectorizeFile(data,newdata,isLabeled)\n",
    "            f.close\n",
    "        \n",
    "        writeVectorsFile(newpath,newdata,isLabeled)"
   ]
  },
  {
   "cell_type": "code",
   "execution_count": 8,
   "metadata": {
    "collapsed": false
   },
   "outputs": [],
   "source": [
    "#read all \"Features\" to dictionary\n",
    "def readFeatures (featuresDirPath):\n",
    "    for filename in os.listdir(featuresDirPath):\n",
    "        if \"features\" in filename:\n",
    "            filepath=featuresDirPath+\"/\"+filename\n",
    "            filename=filename.split(\"_\")[0]\n",
    "            with open(filepath) as f:\n",
    "                data = list(csv.reader(f))\n",
    "                updateDict(data,filename)\n",
    "                f.close"
   ]
  },
  {
   "cell_type": "code",
   "execution_count": 9,
   "metadata": {
    "collapsed": false
   },
   "outputs": [],
   "source": [
    "#vectorizes the data in dataDirPath and save to vectorsDirPath\n",
    "\n",
    "#featuresDirPath=\"Data/Features\"\n",
    "#dataDirPath=\"Data/LabeledData\"\n",
    "\n",
    "def dataToVectors (featuresDirPath, dataDirPath, vectorsDirPath,isLabeled):\n",
    "    readFeatures(featuresDirPath)\n",
    "    vectorizeFilesInDir(dataDirPath,vectorsDirPath,isLabeled) "
   ]
  },
  {
   "cell_type": "code",
   "execution_count": null,
   "metadata": {
    "collapsed": true
   },
   "outputs": [],
   "source": []
  }
 ],
 "metadata": {
  "kernelspec": {
   "display_name": "Python 2",
   "language": "python",
   "name": "python2"
  },
  "language_info": {
   "codemirror_mode": {
    "name": "ipython",
    "version": 2
   },
   "file_extension": ".py",
   "mimetype": "text/x-python",
   "name": "python",
   "nbconvert_exporter": "python",
   "pygments_lexer": "ipython2",
   "version": "2.7.11"
  }
 },
 "nbformat": 4,
 "nbformat_minor": 0
}
