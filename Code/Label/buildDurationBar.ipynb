{
 "cells": [
  {
   "cell_type": "code",
   "execution_count": null,
   "metadata": {
    "collapsed": true
   },
   "outputs": [],
   "source": [
    "# this program builds the bar we will use for labeling our data\n",
    "# the input are requests files found in the Dir: \"Data/DataForBar\"\n",
    "# the program finds the minimum request's duration per Host and Url and saves it in a dictionary\n",
    "# for exmp: host_name:url_base:minimum_duration\n",
    "# output: the dictionary is saved to a file called \"barFile\" in the same Dir"
   ]
  },
  {
   "cell_type": "code",
   "execution_count": 4,
   "metadata": {
    "collapsed": true
   },
   "outputs": [],
   "source": [
    "import numpy as np\n",
    "import csv"
   ]
  },
  {
   "cell_type": "code",
   "execution_count": 5,
   "metadata": {
    "collapsed": false
   },
   "outputs": [],
   "source": [
    "def readFileToList(filepath):\n",
    "    with open(filepath) as f:\n",
    "        data = list(csv.reader(f))\n",
    "        f.close\n",
    "    return data"
   ]
  },
  {
   "cell_type": "code",
   "execution_count": 6,
   "metadata": {
    "collapsed": true
   },
   "outputs": [],
   "source": [
    "#add/update to dictionary from a single request file: (Host->URL->MinDuration) \n",
    "def insertToDict (dict,data,hostplace,urlplace,durplace):\n",
    "    for line in data:\n",
    "        hostname=line[hostplace]\n",
    "        urlname=line[urlplace]\n",
    "        dur=float(line[durplace])\n",
    "        urldict={urlname:dur}\n",
    "        if hostname not in dict: #update new host\n",
    "            dict.update({hostname:urldict})\n",
    "        else:\n",
    "            allurls=dict[hostname] #the current host url's list\n",
    "            if urlname not in allurls: #update new url\n",
    "                dict[hostname].update(urldict)\n",
    "            else: #update min dur for existing host and url\n",
    "                mindur=np.minimum(dur,allurls[urlname])\n",
    "                (dict[hostname])[urlname]=mindur  #update min duration time "
   ]
  },
  {
   "cell_type": "code",
   "execution_count": 7,
   "metadata": {
    "collapsed": true
   },
   "outputs": [],
   "source": [
    "#fill the dictionary from all the requests files\n",
    "def createDictFromAllFiles (dict,allfiles):\n",
    "    for filepath in allfiles:\n",
    "        data=readFileToList(filepath)\n",
    "        #find the place of the host, url and reqDuration in the data\n",
    "        data.reverse\n",
    "        headline=data.pop(0)\n",
    "        i=0\n",
    "        for title in headline:\n",
    "            if title=='Host':\n",
    "                hostplace=i\n",
    "            if title =='UrlBase':\n",
    "                urlplace=i\n",
    "            if title=='ReqDuration':\n",
    "                durplace=i\n",
    "            i+=1\n",
    "        #add data to dict\n",
    "        insertToDict(dict,data,hostplace,urlplace,durplace)        "
   ]
  },
  {
   "cell_type": "code",
   "execution_count": 8,
   "metadata": {
    "collapsed": false
   },
   "outputs": [],
   "source": [
    "#create a dictionary from files in the form of: (Host->URL->MinDuration) \n",
    "import os\n",
    "dict = {}\n",
    "allfiles=list()\n",
    "dirpath=\"Data/DataForBar\"\n",
    "for filename in os.listdir(dirpath): #add all requests files in the diractory\n",
    "    if (\"day\" in filename) or (\"requests\" in filename):\n",
    "        allfiles.append(\"Data/DataForBar/\"+filename)\n",
    "createDictFromAllFiles (dict,allfiles)"
   ]
  },
  {
   "cell_type": "code",
   "execution_count": 9,
   "metadata": {
    "collapsed": false
   },
   "outputs": [],
   "source": [
    "#save dictionary to File\n",
    "with open(\"Data/DataForBar/barFile.csv\",'w') as f2:\n",
    "    f2.write(\"Host,URL,MinDuration\\n\")\n",
    "    for host in dict:\n",
    "        hostdict=dict[host]\n",
    "        for url in hostdict:\n",
    "            dur=hostdict[url]\n",
    "            f2.write(\"%s,%s,%f\\n\" % (host, url, dur))\n",
    "    f2.close()"
   ]
  }
 ],
 "metadata": {
  "kernelspec": {
   "display_name": "Python 2",
   "language": "python",
   "name": "python2"
  },
  "language_info": {
   "codemirror_mode": {
    "name": "ipython",
    "version": 2
   },
   "file_extension": ".py",
   "mimetype": "text/x-python",
   "name": "python",
   "nbconvert_exporter": "python",
   "pygments_lexer": "ipython2",
   "version": "2.7.11"
  }
 },
 "nbformat": 4,
 "nbformat_minor": 0
}
