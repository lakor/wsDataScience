{
 "cells": [
  {
   "cell_type": "code",
   "execution_count": 127,
   "metadata": {
    "collapsed": false
   },
   "outputs": [],
   "source": [
    "import numpy as np\n",
    "from sklearn import preprocessing\n",
    "from sklearn import svm\n",
    "from sklearn import datasets\n",
    "import random,math\n",
    "import os\n",
    "import csv"
   ]
  },
  {
   "cell_type": "code",
   "execution_count": 128,
   "metadata": {
    "collapsed": false
   },
   "outputs": [],
   "source": [
    "# read vectors\n",
    "def readVectors(vecDirPath):\n",
    "    filtered_data=list()\n",
    "    for filename in os.listdir(vecDirPath):\n",
    "        if \"vectors\" in filename:\n",
    "            filepath=vecDirPath+\"/\"+filename\n",
    "            data = np.array(np.genfromtxt(filepath, delimiter=',',autostrip=True))\n",
    "            filtered_data.append(data)\n",
    "    filtered_data=np.asarray(filtered_data)[0]\n",
    "    return filtered_data"
   ]
  },
  {
   "cell_type": "code",
   "execution_count": 129,
   "metadata": {
    "collapsed": false
   },
   "outputs": [],
   "source": [
    "def scaleAndFilterVectors (filtered_data):\n",
    "    # cut headline\n",
    "    sz=filtered_data.size\n",
    "    headline=filtered_data[0]\n",
    "    filtered_data=filtered_data[1:sz]\n",
    "    \n",
    "    # save labels\n",
    "    labels=filtered_data[:,5]\n",
    "    for i in range (0,len(labels)):\n",
    "        labels[i]=int(labels[i])\n",
    "        \n",
    "    #cut labels\n",
    "    scaled_filtered_data=preprocessing.scale(filtered_data)\n",
    "    scaled_filtered_data=scaled_filtered_data[:,:-1]\n",
    "    \n",
    "    return (scaled_filtered_data,labels)"
   ]
  },
  {
   "cell_type": "code",
   "execution_count": 130,
   "metadata": {
    "collapsed": false
   },
   "outputs": [],
   "source": [
    "def crossValModel(scaled_filtered_data,labels):\n",
    "    # diviede to train and test\n",
    "    training_size_fraction=.09\n",
    "\n",
    "    # train and test indexes\n",
    "    test_idx=np.array(random.sample(xrange(len(labels)), int((1-training_size_fraction)*len(labels))))\n",
    "    train_idx=np.array([x for x in xrange(len(labels)) if x not in test_idx])\n",
    "\n",
    "    # build train and test samples\n",
    "    test_samples=scaled_filtered_data[test_idx]\n",
    "    train_samples=scaled_filtered_data[train_idx]\n",
    "\n",
    "    # keep train and test labels\n",
    "    test_out=labels[test_idx]\n",
    "    train_out=labels[train_idx]\n",
    "    \n",
    "    # build classifier\n",
    "    clf = svm.SVC(kernel='linear')\n",
    "    clf.fit(train_samples, train_out)\n",
    "    \n",
    "    # predict\n",
    "    a=np.array(clf.predict(test_samples).astype(int))\n",
    "    c=a==np.array(test_out)\n",
    "    c=np.array(a)==np.array(test_out)\n",
    "    \n",
    "    # print results\n",
    "    print \"Accuracy                                    : \",str(sum(c)*100.0/len(a))+\" %\"\n",
    "    print \"Number of support vectors for positive class: \",clf.n_support_[0]\n",
    "    print \"Number of support vectors for negative class: \",clf.n_support_[1]"
   ]
  },
  {
   "cell_type": "code",
   "execution_count": 131,
   "metadata": {
    "collapsed": true
   },
   "outputs": [],
   "source": [
    "# vecDirPath=\"Data/TrainVectors\"\n",
    "def buildTrainModel (vecDirPath):\n",
    "    \n",
    "    #read the vectors from all data files\n",
    "    dataVectors=readVectors(vecDirPath)\n",
    "    \n",
    "    #retrun vectors in range [0,1] and labels\n",
    "    (vectors,labels)=scaleAndFilterVectors(dataVectors)\n",
    "    \n",
    "    #cross val the train set\n",
    "    crossValModel(vectors,labels)"
   ]
  },
  {
   "cell_type": "code",
   "execution_count": null,
   "metadata": {
    "collapsed": true
   },
   "outputs": [],
   "source": [
    ""
   ]
  }
 ],
 "metadata": {
  "kernelspec": {
   "display_name": "Python 2",
   "language": "python",
   "name": "python2"
  },
  "language_info": {
   "codemirror_mode": {
    "name": "ipython",
    "version": 2.0
   },
   "file_extension": ".py",
   "mimetype": "text/x-python",
   "name": "python",
   "nbconvert_exporter": "python",
   "pygments_lexer": "ipython2",
   "version": "2.7.11"
  }
 },
 "nbformat": 4,
 "nbformat_minor": 0
}