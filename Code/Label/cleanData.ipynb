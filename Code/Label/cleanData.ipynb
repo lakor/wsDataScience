{
 "cells": [
  {
   "cell_type": "code",
   "execution_count": null,
   "metadata": {
    "collapsed": true
   },
   "outputs": [],
   "source": [
    "import csv\n",
    "import os"
   ]
  },
  {
   "cell_type": "code",
   "execution_count": 1,
   "metadata": {
    "collapsed": true
   },
   "outputs": [],
   "source": [
    "# remove comma from the tables\n",
    "def cleanData(data):\n",
    "    for row in data:\n",
    "        for i in range (0,len(row)): #clean the data\n",
    "            row[i]=row[i].replace(',', '-')\n",
    "    return data"
   ]
  },
  {
   "cell_type": "code",
   "execution_count": 3,
   "metadata": {
    "collapsed": false
   },
   "outputs": [],
   "source": [
    "# clean all files in the given dir\n",
    "def cleanFilesInDir(dirpath):\n",
    "    for filename in os.listdir(dirpath):\n",
    "        filepath=dirpath+\"/\"+filename\n",
    "        with open(filepath) as f:\n",
    "            data = list(csv.reader(f))\n",
    "            f.close\n",
    "        data=cleanData(data)\n",
    "        data.reverse\n",
    "        with open(filepath,'w') as f:\n",
    "            for row in data:\n",
    "                for i in range (0,len(row)):\n",
    "                    if (i<len(row)-1):\n",
    "                        f.write('%s,' % row[i])\n",
    "                    else:\n",
    "                        f.write('%s' % row[i])    \n",
    "                f.write('\\n')\n",
    "            f.close()"
   ]
  },
  {
   "cell_type": "code",
   "execution_count": null,
   "metadata": {
    "collapsed": true
   },
   "outputs": [],
   "source": []
  }
 ],
 "metadata": {
  "kernelspec": {
   "display_name": "Python 2",
   "language": "python",
   "name": "python2"
  },
  "language_info": {
   "codemirror_mode": {
    "name": "ipython",
    "version": 2
   },
   "file_extension": ".py",
   "mimetype": "text/x-python",
   "name": "python",
   "nbconvert_exporter": "python",
   "pygments_lexer": "ipython2",
   "version": "2.7.11"
  }
 },
 "nbformat": 4,
 "nbformat_minor": 0
}
