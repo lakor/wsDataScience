{
 "cells": [
  {
   "cell_type": "code",
   "execution_count": 40,
   "metadata": {
    "collapsed": true
   },
   "outputs": [],
   "source": [
    "# this program labels our data\n",
    "# the input are requests files found in the Dir: \"Data/DataToLabel\"\n",
    "# and it uses the bar file from the path: \"\"Data/DataForBar/barFile.csv\"\n",
    "# the program goes over each request file and label the row according to the results from the func: \"isBusy\"\n",
    "# the function uses the min duration per host+url info found in the barFile in order to choose a label\n",
    "# output: each file is saved as it was, with the exception of an additional label column, to the Dir: \"Data/labeledData\""
   ]
  },
  {
   "cell_type": "code",
   "execution_count": 49,
   "metadata": {
    "collapsed": true
   },
   "outputs": [],
   "source": [
    "import numpy as np\n",
    "import csv\n",
    "import os\n",
    "allfiles=list()\n",
    "dict = {}"
   ]
  },
  {
   "cell_type": "code",
   "execution_count": 50,
   "metadata": {
    "collapsed": false
   },
   "outputs": [],
   "source": [
    "#read dictionary File into dictionary DataStruct\n",
    "def readBarFile(barDirPath):\n",
    "    barPath=barDirPath+\"/barFile.csv\"\n",
    "    with open(barPath) as f:\n",
    "        dictdata = list(csv.reader(f))\n",
    "        f.close\n",
    "    dictdata.reverse\n",
    "    headline=dictdata.pop(0)\n",
    "    i=0\n",
    "    for title in headline:\n",
    "        if title=='Host':\n",
    "            hostplace=i\n",
    "        if title =='URL':\n",
    "            urlplace=i\n",
    "        if title=='MinDuration':\n",
    "            durplace=i\n",
    "        i+=1\n",
    "    for line in dictdata:\n",
    "        hostname=line[hostplace]\n",
    "        urlname=line[urlplace]\n",
    "        dur=float(line[durplace])\n",
    "        urldict={urlname:dur}\n",
    "        if hostname not in dict: #update new host\n",
    "            dict.update({hostname:urldict})\n",
    "        else:\n",
    "            allurls=dict[hostname] #the current host url's list\n",
    "            if urlname not in allurls: #update new url\n",
    "                dict[hostname].update(urldict)"
   ]
  },
  {
   "cell_type": "code",
   "execution_count": 51,
   "metadata": {
    "collapsed": false
   },
   "outputs": [],
   "source": [
    "#read the file intended to be labeled into DataStructure\n",
    "def readFileToList(filepath,newpath):\n",
    "    with open(filepath) as f:\n",
    "        with open(newpath,'w') as f2:\n",
    "            writer=csv.writer(f2)\n",
    "            for row in csv.reader(f):\n",
    "                writer.writerow(row+[\"Label\"])\n",
    "            f2.close\n",
    "        f.close\n",
    "    with open(newpath,'r') as f2:\n",
    "        data = list(csv.reader(f2))\n",
    "        f2.close\n",
    "    return data"
   ]
  },
  {
   "cell_type": "code",
   "execution_count": 52,
   "metadata": {
    "collapsed": false
   },
   "outputs": [],
   "source": [
    "#function for deciding busy row or not\n",
    "def isBusy(lineDur,minDur):\n",
    "    if lineDur>=(2*minDur): #twice as minimum duration\n",
    "        return 1\n",
    "    else:\n",
    "        return 0"
   ]
  },
  {
   "cell_type": "code",
   "execution_count": 53,
   "metadata": {
    "collapsed": false
   },
   "outputs": [],
   "source": [
    "#save labeled data to file\n",
    "def labeledDataToFile(filepath,data):\n",
    "    with open(filepath,'w') as f2:\n",
    "        for line in data:\n",
    "            for word in line:\n",
    "                f2.write('%s,' % word)\n",
    "            f2.write('\\n')\n",
    "        f2.close()"
   ]
  },
  {
   "cell_type": "code",
   "execution_count": 54,
   "metadata": {
    "collapsed": false
   },
   "outputs": [],
   "source": [
    "# label the data from a single file\n",
    "\n",
    "def labelTheData (dict,data):\n",
    "    data.reverse\n",
    "    headline=data.pop(0)\n",
    "    i=0\n",
    "    #find indexes\n",
    "    for title in headline:\n",
    "        if title=='Host':\n",
    "            hostplace=i\n",
    "        if title =='UrlBase':\n",
    "            urlplace=i\n",
    "        if title=='ReqDuration':\n",
    "            durplace=i\n",
    "        if title=='Label':\n",
    "            labelplace=i\n",
    "        i+=1\n",
    "    #label the rows\n",
    "    for line in data:\n",
    "        lineHost=line[hostplace]\n",
    "        lineUrl=line[urlplace]\n",
    "        lineDur=float(line[durplace])\n",
    "        minDur=(dict[lineHost])[lineUrl]\n",
    "        #check if busy row\n",
    "        line[labelplace]=isBusy(lineDur,minDur) #label row\n",
    "    data.insert(0,headline)"
   ]
  },
  {
   "cell_type": "code",
   "execution_count": 55,
   "metadata": {
    "collapsed": false
   },
   "outputs": [],
   "source": [
    "#label all files in the dir\n",
    "\n",
    "#dataDir=\"Data/DataToLabel\"\n",
    "#labelDir=\"Data/LabeledData\"\n",
    "#barDir=\"Data/DataForBar\"\n",
    "\n",
    "def labelAllfiles(dataDir,labelDir,barDir):\n",
    "    \n",
    "    readBarFile(barDir)#update bar dictionary\n",
    "    \n",
    "    for filename in os.listdir(dataDir): #add all requests files in the diractory\n",
    "            \n",
    "        filepath=dataDir+\"/\"+filename #oldpath\n",
    "            \n",
    "        newpath=labelDir+\"/\"+filename #newpath\n",
    "        newpath=newpath.split(\".csv\", 1)[0]+\"_labeled.csv\"\n",
    "              \n",
    "        #copy the file to the labelDir and add \"Label\" column then save to Data\n",
    "        data=readFileToList(filepath,newpath) \n",
    "        \n",
    "        #label the data of the file\n",
    "        labelTheData (dict,data)\n",
    "        \n",
    "        #save data to file\n",
    "        labeledDataToFile(newpath,data)"
   ]
  },
  {
   "cell_type": "code",
   "execution_count": null,
   "metadata": {
    "collapsed": true
   },
   "outputs": [],
   "source": []
  }
 ],
 "metadata": {
  "kernelspec": {
   "display_name": "Python 2",
   "language": "python",
   "name": "python2"
  },
  "language_info": {
   "codemirror_mode": {
    "name": "ipython",
    "version": 2
   },
   "file_extension": ".py",
   "mimetype": "text/x-python",
   "name": "python",
   "nbconvert_exporter": "python",
   "pygments_lexer": "ipython2",
   "version": "2.7.11"
  }
 },
 "nbformat": 4,
 "nbformat_minor": 0
}
