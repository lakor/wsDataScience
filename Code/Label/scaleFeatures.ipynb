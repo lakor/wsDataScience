{
 "cells": [
  {
   "cell_type": "code",
   "execution_count": 1,
   "metadata": {
    "collapsed": true
   },
   "outputs": [],
   "source": [
    "# this program reads all labeled files from \"LabeledData\" Dir\n",
    "# the program orders fields in selected features by the prob of having a \"busy\" label (out of the total count for the field)\n",
    "# for exmp: fot the feature \"Country\" we have a list of fields: \"England\",\"Isreal\" ext...\n",
    "# ordered as such [\"England\": prob(busy_in_England)] and so on for all fields under \"Country\"\n",
    "# the output are files for each feature, containing all the fields and prob as written above\n",
    "# the fields in each file are ordered in ascending order of prob(busy_for_field)\n",
    "# the files are saved in Dir: \"Data/Features\""
   ]
  },
  {
   "cell_type": "code",
   "execution_count": 2,
   "metadata": {
    "collapsed": true
   },
   "outputs": [],
   "source": [
    "import os\n",
    "import csv\n",
    "from collections import OrderedDict\n",
    "\n",
    "continentDict=OrderedDict()\n",
    "countryDict=OrderedDict()\n",
    "opNameDict=OrderedDict()\n",
    "osVerDict=OrderedDict()\n",
    "brwVerDict=OrderedDict()\n",
    "tempDict=OrderedDict()"
   ]
  },
  {
   "cell_type": "code",
   "execution_count": 3,
   "metadata": {
    "collapsed": true
   },
   "outputs": [],
   "source": [
    "#for the given feature - update its dictionary\n",
    "#dictionary build for exmp: country_name: [count #label '0', count #label '1']\n",
    "def updateFeature(row, featurePlace, featureDict, labelPlace):\n",
    "    featureName=row[featurePlace]\n",
    "    label=int(row[labelPlace])\n",
    "    if featureName not in featureDict:\n",
    "        newCounter=[0,0]\n",
    "        featureDict.update({featureName:newCounter})\n",
    "    featureDict[featureName][label]+=1"
   ]
  },
  {
   "cell_type": "code",
   "execution_count": 4,
   "metadata": {
    "collapsed": false
   },
   "outputs": [],
   "source": [
    "#update all the dictionaries with the info from the current file\n",
    "def updateAllDict(data):\n",
    "    data.reverse\n",
    "    headline=data.pop(0)\n",
    "    i=0\n",
    "    for title in headline:\n",
    "        if title=='Continent':\n",
    "            continentPlace=i\n",
    "        if title =='Country':\n",
    "            countryPlace=i\n",
    "        if title=='OpName':\n",
    "            opNamePlace=i\n",
    "        if title == \"OsVer\":\n",
    "            osVerPlace=i\n",
    "        if title == \"BrowserVer\":\n",
    "            brwVerPlace=i\n",
    "        if title == \"Label\":\n",
    "            labelPlace=i\n",
    "        i+=1\n",
    "    for row in data:#update all dictionaries for each row in the data\n",
    "        updateFeature(row,continentPlace,continentDict,labelPlace) \n",
    "        updateFeature(row,countryPlace,countryDict,labelPlace)\n",
    "        updateFeature(row,opNamePlace,opNameDict,labelPlace)\n",
    "        updateFeature(row,osVerPlace,osVerDict,labelPlace)\n",
    "        updateFeature(row,brwVerPlace,brwVerDict,labelPlace)      "
   ]
  },
  {
   "cell_type": "code",
   "execution_count": 5,
   "metadata": {
    "collapsed": true
   },
   "outputs": [],
   "source": [
    "#return the dictionary build for exmp: country_name: #busy/#total\n",
    "def getBusyPerDict(dictName):\n",
    "    tempDict.clear()\n",
    "    for key in dictName:\n",
    "        busy=float(dictName[key][1])/float(dictName[key][0]+dictName[key][1])\n",
    "        tempDict.update({key:busy})\n",
    "    return tempDict"
   ]
  },
  {
   "cell_type": "code",
   "execution_count": 6,
   "metadata": {
    "collapsed": true
   },
   "outputs": [],
   "source": [
    "#save dictionary to file\n",
    "\n",
    "#featuresDirPath=\"Data/Features\"\n",
    "\n",
    "def dictToFile(dictName, fileName,featuresDirPath):\n",
    "    \n",
    "    #call for probability analysis function\n",
    "    dictName=getBusyPerDict(dictName)\n",
    "    \n",
    "    #order keys by busy values\n",
    "    dictName=OrderedDict(sorted(dictName.items(), key=lambda t: t[1]))\n",
    "    \n",
    "    filepath=featuresDirPath+\"/\"+fileName+\"_features.csv\"\n",
    "    with open(filepath,'w') as f2:\n",
    "        fieldID=1 #number each field\n",
    "        f2.write('fieldName,busyFromTotal,fieldID\\n')\n",
    "        for key in dictName:\n",
    "            f2.write('%s,' % key)\n",
    "            f2.write('%f,' % dictName[key])\n",
    "            f2.write('%d,' % fieldID)\n",
    "            f2.write('\\n')\n",
    "            fieldID+=1\n",
    "        f2.close()"
   ]
  },
  {
   "cell_type": "code",
   "execution_count": 8,
   "metadata": {
    "collapsed": false
   },
   "outputs": [],
   "source": [
    "#create features files from the labeled data\n",
    "\n",
    "#dataDirPath=\"Data/LabeledData\"\n",
    "#featuresDirPath=\"Data/Features\"\n",
    "\n",
    "def buildFeaturesFiles(dataDirPath,featuresDirPath):\n",
    "\n",
    "#go over each file and update all the dictionaries \n",
    "    for filename in os.listdir(dataDirPath):\n",
    "        if \"labeled\" in filename:\n",
    "            filepath=dataDirPath+\"/\"+filename\n",
    "            with open(filepath) as f:\n",
    "                data = list(csv.reader(f))\n",
    "                f.close\n",
    "            updateAllDict(data)\n",
    "    \n",
    "    #send all the updated dictionaries to files\n",
    "    dictToFile(continentDict,\"continent\",featuresDirPath)\n",
    "    dictToFile(countryDict,\"country\",featuresDirPath)\n",
    "    dictToFile(opNameDict,\"opName\",featuresDirPath)\n",
    "    dictToFile(osVerDict,\"osVer\",featuresDirPath)\n",
    "    dictToFile (brwVerDict,\"brwVer\",featuresDirPath)"
   ]
  },
  {
   "cell_type": "code",
   "execution_count": null,
   "metadata": {
    "collapsed": true
   },
   "outputs": [],
   "source": []
  }
 ],
 "metadata": {
  "kernelspec": {
   "display_name": "Python 2",
   "language": "python",
   "name": "python2"
  },
  "language_info": {
   "codemirror_mode": {
    "name": "ipython",
    "version": 2
   },
   "file_extension": ".py",
   "mimetype": "text/x-python",
   "name": "python",
   "nbconvert_exporter": "python",
   "pygments_lexer": "ipython2",
   "version": "2.7.11"
  }
 },
 "nbformat": 4,
 "nbformat_minor": 0
}
