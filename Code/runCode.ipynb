{
 "cells": [
  {
   "cell_type": "code",
   "execution_count": 1,
   "metadata": {
    "collapsed": false
   },
   "outputs": [],
   "source": [
    "import buildDurationBar\n",
    "import labelData\n",
    "import scaleFeatures\n",
    "import vectorizeData\n",
    "import trainSvmModel\n",
    "import cleanData"
   ]
  },
  {
   "cell_type": "code",
   "execution_count": 2,
   "metadata": {
    "collapsed": false
   },
   "outputs": [],
   "source": [
    "#build the bar from folder: \"Data/DataForBar\"\n",
    "\n",
    "buildDurationBar\n",
    "buildDurationBar.buildBar(\"Data/DataForBar\")"
   ]
  },
  {
   "cell_type": "code",
   "execution_count": 9,
   "metadata": {
    "collapsed": true
   },
   "outputs": [],
   "source": [
    "#clean the data from 'comma'\n",
    "\n",
    "#dirpath=\"Data/DataToLabel\"\n",
    "\n",
    "cleanData\n",
    "cleanData.cleanFilesInDir(\"Data/DataToLabel\")"
   ]
  },
  {
   "cell_type": "code",
   "execution_count": 10,
   "metadata": {
    "collapsed": false
   },
   "outputs": [],
   "source": [
    "#label the data in folder: \"Data/DataToLabel\" and save to \"Data/LabeledData\"\n",
    "\n",
    "#dataDir=\"Data/DataToLabel\"\n",
    "#labelDir=\"Data/LabeledData\"\n",
    "#barDir=\"Data/DataForBar\"\n",
    "\n",
    "labelData\n",
    "labelData.labelAllfiles(\"Data/DataToLabel\",\"Data/LabeledData\",\"Data/DataForBar\")"
   ]
  },
  {
   "cell_type": "code",
   "execution_count": 11,
   "metadata": {
    "collapsed": false
   },
   "outputs": [],
   "source": [
    "#scaleFeatures: create the files of features ordered by workloads and numbered in folder Data/Features\"\n",
    "\n",
    "#dataDirPath=\"Data/LabeledData\"\n",
    "#featuresDirPath=\"Data/Features\"\n",
    "\n",
    "scaleFeatures\n",
    "scaleFeatures.buildFeaturesFiles(\"Data/LabeledData\",\"Data/Features\")"
   ]
  },
  {
   "cell_type": "code",
   "execution_count": 12,
   "metadata": {
    "collapsed": false
   },
   "outputs": [],
   "source": [
    "# vectorizes the data in \"Data/LabeledData\" and save to \"Data/TrainVectors\"\n",
    "# if data in \"Data/testData\" save to \"Data/TestVectors\"\n",
    "\n",
    "#featuresDirPath=\"Data/Features\"\n",
    "#dataDirPath=\"Data/LabeledData\"\n",
    "\n",
    "vectorizeData\n",
    "vectorizeData.dataToVectors(\"Data/Features\",\"Data/LabeledData\", \"Data/TrainVectors\",True)\n",
    "vectorizeData.dataToVectors(\"Data/Features\",\"Data/TestData\", \"Data/TestVectors\",False)"
   ]
  },
  {
   "cell_type": "code",
   "execution_count": 13,
   "metadata": {
    "collapsed": false
   },
   "outputs": [
    {
     "name": "stdout",
     "output_type": "stream",
     "text": [
      "Accuracy                                    :  92.0538461538 %\n",
      "Number of support vectors for positive class:  804\n",
      "Number of support vectors for negative class:  813\n"
     ]
    }
   ],
   "source": [
    "# build svm model and run cross val on our labeled vectors\n",
    "\n",
    "#vecDirPath=\"Data/TrainVectors\"\n",
    "\n",
    "trainSvmModel\n",
    "trainSvmModel.buildTrainModel (\"Data/TrainVectors\")"
   ]
  },
  {
   "cell_type": "code",
   "execution_count": null,
   "metadata": {
    "collapsed": true
   },
   "outputs": [],
   "source": []
  }
 ],
 "metadata": {
  "kernelspec": {
   "display_name": "Python 2",
   "language": "python",
   "name": "python2"
  },
  "language_info": {
   "codemirror_mode": {
    "name": "ipython",
    "version": 2
   },
   "file_extension": ".py",
   "mimetype": "text/x-python",
   "name": "python",
   "nbconvert_exporter": "python",
   "pygments_lexer": "ipython2",
   "version": "2.7.11"
  }
 },
 "nbformat": 4,
 "nbformat_minor": 0
}
